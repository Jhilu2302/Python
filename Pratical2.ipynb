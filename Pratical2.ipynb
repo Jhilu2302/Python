{
  "nbformat": 4,
  "nbformat_minor": 0,
  "metadata": {
    "colab": {
      "provenance": [],
      "authorship_tag": "ABX9TyPriTnplT+FGIKZPR4Vneyl",
      "include_colab_link": true
    },
    "kernelspec": {
      "name": "python3",
      "display_name": "Python 3"
    },
    "language_info": {
      "name": "python"
    }
  },
  "cells": [
    {
      "cell_type": "markdown",
      "metadata": {
        "id": "view-in-github",
        "colab_type": "text"
      },
      "source": [
        "<a href=\"https://colab.research.google.com/github/Jhilu2302/Python/blob/main/Pratical2.ipynb\" target=\"_parent\"><img src=\"https://colab.research.google.com/assets/colab-badge.svg\" alt=\"Open In Colab\"/></a>"
      ]
    },
    {
      "cell_type": "code",
      "execution_count": null,
      "metadata": {
        "colab": {
          "base_uri": "https://localhost:8080/"
        },
        "id": "_AGIu4o881H2",
        "outputId": "689daa79-03d9-4609-fa88-a24ced2cc372"
      },
      "outputs": [
        {
          "output_type": "stream",
          "name": "stdout",
          "text": [
            "   November 2014\n",
            "Mo Tu We Th Fr Sa Su\n",
            "                1  2\n",
            " 3  4  5  6  7  8  9\n",
            "10 11 12 13 14 15 16\n",
            "17 18 19 20 21 22 23\n",
            "24 25 26 27 28 29 30\n",
            "\n"
          ]
        }
      ],
      "source": [
        "import calendar\n",
        "yy=2014\n",
        "mm=11\n",
        "print(calendar.month(yy,mm))"
      ]
    },
    {
      "cell_type": "markdown",
      "source": [
        "**Make calendar**\n"
      ],
      "metadata": {
        "id": "o-TK2W7p-VeA"
      }
    },
    {
      "cell_type": "code",
      "source": [
        "import calendar\n",
        "yyyy=int (input(\"enter year:\"))\n",
        "mm=int(input(\"enter month:\"))\n",
        "print(calendar.month(yyyy,mm))"
      ],
      "metadata": {
        "colab": {
          "base_uri": "https://localhost:8080/"
        },
        "id": "RPkP-m559iGY",
        "outputId": "7c55dec3-e502-478f-a674-4e1e807cc72b"
      },
      "execution_count": null,
      "outputs": [
        {
          "output_type": "stream",
          "name": "stdout",
          "text": [
            "enter year:2004\n",
            "enter month:2\n",
            "   February 2004\n",
            "Mo Tu We Th Fr Sa Su\n",
            "                   1\n",
            " 2  3  4  5  6  7  8\n",
            " 9 10 11 12 13 14 15\n",
            "16 17 18 19 20 21 22\n",
            "23 24 25 26 27 28 29\n",
            "\n"
          ]
        }
      ]
    },
    {
      "cell_type": "code",
      "source": [
        "import cmath\n",
        "a=int(input(\"enter no.1:\"))\n",
        "b=int(input(\"enter no.2:\"))\n",
        "c=int(input(\"enter no.3:\"))\n",
        "d=(b**2)-(4*a*c)\n",
        "sol1=(-b-cmath.sqrt(d))/(2*a)\n",
        "sol2=(-b+cmath.sqrt(d))/(2*a)\n",
        "print(sol1)\n",
        "print(sol2)\n",
        "print('the solution are{0}and{1}',1)"
      ],
      "metadata": {
        "id": "Yyp-T4rWAYLS",
        "colab": {
          "base_uri": "https://localhost:8080/"
        },
        "outputId": "7f91db67-7b6d-47d3-af86-69113479f7cd"
      },
      "execution_count": null,
      "outputs": [
        {
          "output_type": "stream",
          "name": "stdout",
          "text": [
            "enter no.1:20\n",
            "enter no.2:40\n",
            "enter no.3:60\n",
            "(-1-1.4142135623730951j)\n",
            "(-1+1.4142135623730951j)\n",
            "the solution are{0}and{1} 1\n"
          ]
        }
      ]
    },
    {
      "cell_type": "code",
      "source": [
        "a=int(input(\"enter no1:\"))\n",
        "b=int(input(\"enter no2:\"))\n",
        "c=int(input(\"enter no3:\"))\n",
        "d=(-b+(b**2-4*a*c)**0.5)/(2*a)\n",
        "print(d)\n",
        "e=(-b-(b**2-4*a*c)**0.5)/(2*a)\n",
        "print(e)\n"
      ],
      "metadata": {
        "colab": {
          "base_uri": "https://localhost:8080/"
        },
        "id": "dKpGO4P0OiRJ",
        "outputId": "d1102719-5aaa-41b4-8fe5-1612bed83259"
      },
      "execution_count": 7,
      "outputs": [
        {
          "output_type": "stream",
          "name": "stdout",
          "text": [
            "enter no1:23\n",
            "enter no2:12\n",
            "enter no3:45\n",
            "(-0.26086956521739124+1.3742157068938354j)\n",
            "(-0.2608695652173914-1.3742157068938354j)\n"
          ]
        }
      ]
    },
    {
      "cell_type": "code",
      "source": [
        "name = input(\"Hello! Please enter your name: \")\n",
        "print (\"hello\" ,name)\n",
        "age = int(input(\"Enter your age: \"))\n",
        "current_year = 2024\n",
        "year_turn_100 = current_year + (100 - age)\n",
        "print(f\"{name} you will turn 100 in {year_turn_100}\")"
      ],
      "metadata": {
        "colab": {
          "base_uri": "https://localhost:8080/"
        },
        "id": "wi3IjnBHbWK8",
        "outputId": "a055ac31-aec0-49d5-8837-ae7565eb1414"
      },
      "execution_count": 12,
      "outputs": [
        {
          "output_type": "stream",
          "name": "stdout",
          "text": [
            "Hello! Please enter your name: Jhil\n",
            "hello Jhil\n",
            "Enter your age: 20\n",
            "Jhil you will turn 100 in 2104\n"
          ]
        }
      ]
    },
    {
      "cell_type": "code",
      "source": [
        "first_name = input(\"Enter your first name\")\n",
        "middle_name = input(\"Enter your middle name\")\n",
        "last_name = input(\"Enter your last name\")\n",
        "\n",
        "full_name = f\"{first_name} {middle_name} {last_name}\"\n",
        "print(\"Full Name:\", full_name)\n",
        "\n",
        "email = input(\"Enter your email: \":)\n",
        "\n",
        "if email.endswith((\".com\", \".in\",\n",
        " print(\"Email is valid\")\n",
        "\n",
        "else: print(\"Email is invalid\")\n",
        "\n",
        "date_of_birth = input(\"Enter your c day, month, year = date_of_birth.sp\n",
        "\n",
        "password = f\"{first_name[:4]}{day}+ print(\"Generated Password:\", passwo\n",
        "\n",
        "confirm_password = input(\"Enter you\n",
        "\n",
        "if confirm_password == password: print(\"Password is valid\") else: print(\"Password is invalid\")"
      ],
      "metadata": {
        "id": "421xtV5vcDkk"
      },
      "execution_count": null,
      "outputs": []
    },
    {
      "cell_type": "code",
      "source": [
        "first_name = input(\"Enter your first name: \")\n",
        "middle_name = input(\"Enter your middle name: \")\n",
        "last_name = input(\"Enter your last name: \")\n",
        "full_name = f\"{first_name} {middle_name} {last_name}\"\n",
        "print(\"Full Name:\", full_name)\n",
        "email = input(\"Enter your email: \")\n",
        "if email.endswith((\".com\", \".in\", \".org\", \".net\")):  # Include other valid TLDs if necessary\n",
        "    print(\"Email is valid\")\n",
        "else:\n",
        "    print(\"Email is invalid\")\n",
        "date_of_birth = input(\"Enter your date of birth (dd-mm-yyyy): \")\n",
        "day, month, year = date_of_birth.split('-')\n",
        "password = f\"{first_name[:4]}{day}+{last_name[-4:]}\"\n",
        "print(\"Generated Password:\", password)\n",
        "confirm_password = input(\"Enter your password to confirm: \")\n",
        "\n",
        "if confirm_password == password:\n",
        "    print(\"Password is valid\")\n",
        "else:\n",
        "    print(\"Password is invalid\")"
      ],
      "metadata": {
        "colab": {
          "base_uri": "https://localhost:8080/"
        },
        "id": "0dqmjRvYdANG",
        "outputId": "8cdce33e-5e2e-4d78-b1fb-a3a5188d94a1"
      },
      "execution_count": 14,
      "outputs": [
        {
          "output_type": "stream",
          "name": "stdout",
          "text": [
            "Enter your first name: JHIL\n",
            "Enter your middle name: DIVYAKANT\n",
            "Enter your last name: CHAWDA\n",
            "Full Name: JHIL DIVYAKANT CHAWDA\n",
            "Enter your email: jhilchawda@gmail.com\n",
            "Email is valid\n",
            "Enter your date of birth (dd-mm-yyyy): 23-02-2004\n",
            "Generated Password: JHIL23+AWDA\n",
            "Enter your password to confirm: JHIL23+AWDA\n",
            "Password is valid\n"
          ]
        }
      ]
    }
  ]
}