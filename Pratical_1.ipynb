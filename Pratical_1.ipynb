{
  "nbformat": 4,
  "nbformat_minor": 0,
  "metadata": {
    "colab": {
      "provenance": [],
      "include_colab_link": true
    },
    "kernelspec": {
      "name": "python3",
      "display_name": "Python 3"
    },
    "language_info": {
      "name": "python"
    }
  },
  "cells": [
    {
      "cell_type": "markdown",
      "metadata": {
        "id": "view-in-github",
        "colab_type": "text"
      },
      "source": [
        "<a href=\"https://colab.research.google.com/github/Jhilu2302/Python/blob/main/Pratical_1.ipynb\" target=\"_parent\"><img src=\"https://colab.research.google.com/assets/colab-badge.svg\" alt=\"Open In Colab\"/></a>"
      ]
    },
    {
      "cell_type": "markdown",
      "source": [
        "**Type casting**"
      ],
      "metadata": {
        "id": "Spj256KsXChO"
      }
    },
    {
      "cell_type": "code",
      "execution_count": null,
      "metadata": {
        "colab": {
          "base_uri": "https://localhost:8080/"
        },
        "id": "oYN2Rg-7TtMd",
        "outputId": "9ae0407e-842f-412c-f272-52d3c01135ab"
      },
      "outputs": [
        {
          "output_type": "stream",
          "name": "stdout",
          "text": [
            "<class 'int'>\n"
          ]
        }
      ],
      "source": [
        "a, b, c, d = 10, 20.5, 'test', True\n",
        "print(type(a))\n"
      ]
    },
    {
      "cell_type": "markdown",
      "source": [
        "**operators**"
      ],
      "metadata": {
        "id": "heobL6NIXJcf"
      }
    },
    {
      "cell_type": "code",
      "source": [
        "a=int(input(\"enter 1st no.\"))\n",
        "b=int (input(\"enter 2nd no.\"))\n",
        "print (a+b);\n"
      ],
      "metadata": {
        "colab": {
          "base_uri": "https://localhost:8080/"
        },
        "id": "hsQP7GDiVkVq",
        "outputId": "91b237b5-f06b-485d-adcc-cfdbc1083324"
      },
      "execution_count": null,
      "outputs": [
        {
          "output_type": "stream",
          "name": "stdout",
          "text": [
            "enter 1st no.12\n",
            "enter 2nd no.23\n",
            "35\n"
          ]
        }
      ]
    },
    {
      "cell_type": "code",
      "source": [
        "a=int(input(\"enter 1st no.\"))\n",
        "b=int (input(\"enter 2nd no.\"))\n",
        "print (a+b);\n",
        "print (a-b);\n",
        "print (a*b);\n",
        "print (a/b);"
      ],
      "metadata": {
        "colab": {
          "base_uri": "https://localhost:8080/"
        },
        "id": "xWZ5aSAnXA-y",
        "outputId": "9b19ff0b-4dfd-4fed-8517-cc48f5142edb"
      },
      "execution_count": null,
      "outputs": [
        {
          "output_type": "stream",
          "name": "stdout",
          "text": [
            "enter 1st no.21\n",
            "enter 2nd no.16\n",
            "37\n",
            "5\n",
            "336\n",
            "1.3125\n"
          ]
        }
      ]
    },
    {
      "cell_type": "markdown",
      "source": [
        "**Indexing**"
      ],
      "metadata": {
        "id": "ougrki0vZpIM"
      }
    },
    {
      "cell_type": "code",
      "source": [
        "name =\"YASHI\"\n",
        "print(name[1])\n",
        "test=\"1000\"\n",
        "print(test[0])"
      ],
      "metadata": {
        "colab": {
          "base_uri": "https://localhost:8080/"
        },
        "id": "Ryjsz67DX3Wh",
        "outputId": "5e905483-8981-428d-a26f-c03a0b5bf884"
      },
      "execution_count": null,
      "outputs": [
        {
          "output_type": "stream",
          "name": "stdout",
          "text": [
            "A\n",
            "1\n"
          ]
        }
      ]
    },
    {
      "cell_type": "code",
      "source": [
        "greet = \"Hello World\"\n",
        "print(\"Z\" + greet[-10:-6], \"M\" + greet[-4:]);\n"
      ],
      "metadata": {
        "colab": {
          "base_uri": "https://localhost:8080/"
        },
        "id": "_5U2ueOpYdc9",
        "outputId": "6371af93-6bb9-4cb8-c65e-5d43aee2b5d7"
      },
      "execution_count": null,
      "outputs": [
        {
          "output_type": "stream",
          "name": "stdout",
          "text": [
            "Zello Morld\n"
          ]
        }
      ]
    },
    {
      "cell_type": "markdown",
      "source": [
        "**Write a program in python which will ask 5 subject marks from student and display final percentage **"
      ],
      "metadata": {
        "id": "szd2fX8SZy5G"
      }
    },
    {
      "cell_type": "code",
      "source": [
        "s1 = int(input(\"Enter s1 \"))\n",
        "s2 = int(input(\"Enter s2 \"))\n",
        "s3 = int(input(\"Enter s3 \"))\n",
        "s4 = int(input(\"Enter s4 \"))\n",
        "s5 = int(input(\"Enter s5 \"))\n",
        "per=(s1+s2+s3+s4+s5)/5\n",
        "print (per,\"%\");\n"
      ],
      "metadata": {
        "colab": {
          "base_uri": "https://localhost:8080/"
        },
        "id": "JdjG1ehmZuyl",
        "outputId": "8bc46c63-0970-44ad-f6d9-20f6f9b4b1a9"
      },
      "execution_count": null,
      "outputs": [
        {
          "output_type": "stream",
          "name": "stdout",
          "text": [
            "Enter s158\n",
            "Enter s275\n",
            "Enter s339\n",
            "Enter s479\n",
            "Enter s554\n",
            "61.0 %\n"
          ]
        }
      ]
    },
    {
      "cell_type": "markdown",
      "source": [
        "**IF....ELSE**"
      ],
      "metadata": {
        "id": "YP-vfEHrdZzx"
      }
    },
    {
      "cell_type": "code",
      "source": [
        "a=int(input(\"enter no.1 \"));\n",
        "b=int(input(\"enter no.2 \"));\n",
        "if a>b:\n",
        "  print(\"a is greater than b\")\n",
        "else:\n",
        "  print(\"a is lesser than b\")"
      ],
      "metadata": {
        "colab": {
          "base_uri": "https://localhost:8080/"
        },
        "id": "UCQpm2sBblnS",
        "outputId": "fd2b19d6-6580-4c5f-ab50-7b9c08338a09"
      },
      "execution_count": null,
      "outputs": [
        {
          "output_type": "stream",
          "name": "stdout",
          "text": [
            "enter no.1 9\n",
            "enter no.2 7\n",
            "a is greater than b\n"
          ]
        }
      ]
    },
    {
      "cell_type": "code",
      "source": [
        "a=10\n",
        "b=10\n",
        "if(a:=b):\n",
        "   print(\"Successful\");\n",
        "else:\n",
        "   print(\"unsuccessful\");"
      ],
      "metadata": {
        "colab": {
          "base_uri": "https://localhost:8080/"
        },
        "id": "SvyvSAZpeU4p",
        "outputId": "ddf28c3f-c6c5-42d6-b104-5b1695348019"
      },
      "execution_count": null,
      "outputs": [
        {
          "output_type": "stream",
          "name": "stdout",
          "text": [
            "Successful\n"
          ]
        }
      ]
    },
    {
      "cell_type": "markdown",
      "source": [
        "**While Loop**"
      ],
      "metadata": {
        "id": "fHqoxzh3gIJ7"
      }
    },
    {
      "cell_type": "code",
      "source": [
        "i = 0\n",
        "while i<11:\n",
        "  print (i);\n",
        "  i=  i+1"
      ],
      "metadata": {
        "colab": {
          "base_uri": "https://localhost:8080/"
        },
        "id": "A_QxvXl17z1I",
        "outputId": "0d41009b-7ef3-4d6d-f88f-0a352ed6c6b9"
      },
      "execution_count": null,
      "outputs": [
        {
          "output_type": "stream",
          "name": "stdout",
          "text": [
            "0\n",
            "1\n",
            "2\n",
            "3\n",
            "4\n",
            "5\n",
            "6\n",
            "7\n",
            "8\n",
            "9\n",
            "10\n"
          ]
        }
      ]
    },
    {
      "cell_type": "code",
      "source": [
        "a=int (input(\"Enter a number\"))\n",
        "i=1\n",
        "if a<11:\n",
        "  while i in range (11):\n",
        "   print(a, \"X\",i,\"=\",a*i)\n",
        "   i=i+1\n",
        "else:\n",
        "  print(\"enter again\");"
      ],
      "metadata": {
        "colab": {
          "base_uri": "https://localhost:8080/"
        },
        "id": "l4P_AzbidmZX",
        "outputId": "67e65c70-542a-4399-b95e-eedae1ce998c"
      },
      "execution_count": null,
      "outputs": [
        {
          "output_type": "stream",
          "name": "stdout",
          "text": [
            "Enter a number7\n",
            "7 X 1 = 7\n",
            "7 X 2 = 14\n",
            "7 X 3 = 21\n",
            "7 X 4 = 28\n",
            "7 X 5 = 35\n",
            "7 X 6 = 42\n",
            "7 X 7 = 49\n",
            "7 X 8 = 56\n",
            "7 X 9 = 63\n",
            "7 X 10 = 70\n"
          ]
        }
      ]
    },
    {
      "cell_type": "markdown",
      "source": [
        "**IF...ELIF..ELSE**"
      ],
      "metadata": {
        "id": "xBDSbSJXhGIt"
      }
    },
    {
      "cell_type": "markdown",
      "source": [
        "**write a program which accept student  5 subject marks from user calculate percentage condition if the student percentage below 35 fail 2nd condition above 35 pass 3rd condition 40 to 60 secpond class 4th condition 60 to 75 first class 5th condition above distinction**"
      ],
      "metadata": {
        "id": "vYsD2D-qlWn-"
      }
    },
    {
      "cell_type": "code",
      "source": [
        "s1 = int(input(\"Enter s1 \"))\n",
        "s2 = int(input(\"Enter s2 \"))\n",
        "s3 = int(input(\"Enter s3 \"))\n",
        "s4 = int(input(\"Enter s4 \"))\n",
        "s5 = int(input(\"Enter s5 \"))\n",
        "percentage =(s1+s2+s3+s4+s5)/5\n",
        "\n",
        "if percentage < 35:\n",
        "    result = \"Fail\"\n",
        "elif percentage < 40:\n",
        "    result = \"Pass\"\n",
        "elif percentage < 60:\n",
        "    result = \"Second Class\"\n",
        "elif percentage < 75:\n",
        "    result = \"First Class\"\n",
        "else:\n",
        "    result = \"Distinction\"\n",
        "\n",
        "# Print the result\n",
        "print(f\"Percentage: {percentage:.2f}%\")\n",
        "print(f\"Result: {result}\")"
      ],
      "metadata": {
        "colab": {
          "base_uri": "https://localhost:8080/"
        },
        "id": "sie0dRi3kqq8",
        "outputId": "59fc6d49-8c5e-4645-8041-3c38becb59bb"
      },
      "execution_count": null,
      "outputs": [
        {
          "output_type": "stream",
          "name": "stdout",
          "text": [
            "Enter s1 78\n",
            "Enter s2 39\n",
            "Enter s3 97\n",
            "Enter s4 54\n",
            "Enter s5 89\n",
            "Percentage: 71.40%\n",
            "Result: First Class\n"
          ]
        }
      ]
    },
    {
      "cell_type": "code",
      "source": [
        "age=int (input(\"enter age \"))\n",
        "if (age<16):\n",
        "  print(\"not eligible\")\n",
        "elif(age<=18):\n",
        "  print(\"part time job\")\n",
        "elif(age<=65):\n",
        "  print(\"full time job\")\n",
        "else:\n",
        "  print(\"not allowed\")"
      ],
      "metadata": {
        "colab": {
          "base_uri": "https://localhost:8080/"
        },
        "id": "dEut8yvflgvu",
        "outputId": "2bb21048-cf24-4cb0-d33c-cf8f7b77a34e"
      },
      "execution_count": null,
      "outputs": [
        {
          "output_type": "stream",
          "name": "stdout",
          "text": [
            "enter age 19\n",
            "full time job\n"
          ]
        }
      ]
    },
    {
      "cell_type": "code",
      "source": [
        "a=int (input(\"choice\"))\n",
        "if (a==1):\n",
        "    bug=int(input(\"budget\"))\n",
        "    if(bug >10000 and bug<=20000):\n",
        "       print(\"mobile\");\n",
        "    elif (bug>20000 and bug<50000):\n",
        "       print(\"laptop\");\n",
        "    else:\n",
        "       print(\"invalid\");\n",
        "elif(a==2):\n",
        "     bug= int(input(\"enter bug\"))\n",
        "     if(bug>10000 and bug<=20000):\n",
        "        print(\"oppo\")\n",
        "     elif(bug>20000 and bug<=50000):\n",
        "        print(\"dell\");\n",
        "     else:\n",
        "        print(\"invalid\");\n",
        "else:\n",
        "    print (\"invalid choice\");"
      ],
      "metadata": {
        "colab": {
          "base_uri": "https://localhost:8080/"
        },
        "id": "v9TCZAJanRJb",
        "outputId": "ba00686d-515e-4108-93c4-a0e7db9841e6"
      },
      "execution_count": null,
      "outputs": [
        {
          "output_type": "stream",
          "name": "stdout",
          "text": [
            "choice2\n",
            "enter bug40000\n",
            "dell\n"
          ]
        }
      ]
    },
    {
      "cell_type": "markdown",
      "source": [
        "**write a program for a food delivery app ask wheather he wants food for breakfast lunch dinner , based on the choice selected by the user for example (user selected breakfast ) again ask him wheather user want south indian or north indian if user select south indian ask user idli or dosa whaterever user order print as a bill**"
      ],
      "metadata": {
        "id": "O4nGQ8F9315c"
      }
    },
    {
      "cell_type": "code",
      "source": [
        "def print_bill(meal, cuisine, dish):\n",
        "    print(\"\\n--- Bill ---\")\n",
        "    print(f\"Meal: {meal}\")\n",
        "    print(f\"Cuisine: {cuisine}\")\n",
        "    print(f\"Dish: {dish}\")\n",
        "    print(\"Thank you for your order!\")\n",
        "\n",
        "def get_choice(options):\n",
        "    for i, option in enumerate(options, 1):\n",
        "        print(f\"{i}. {option}\")\n",
        "    choice = int(input(\"Please choose an option: \"))\n",
        "    while choice < 1 or choice > len(options):\n",
        "        choice = int(input(\"Invalid choice. Please choose again: \"))\n",
        "    return options[choice - 1]\n",
        "\n",
        "def main():\n",
        "    meal_options = {\n",
        "        \"Breakfast\": {\n",
        "            \"South Indian\": [\"Idli\", \"Dosa\"],\n",
        "            \"North Indian\": [\"Paratha\", \"Puri Sabzi\"]\n",
        "        },\n",
        "        \"Lunch\": {\n",
        "            \"South Indian\": [\"Sambar Rice\", \"Curd Rice\"],\n",
        "            \"North Indian\": [\"Rajma Chawal\", \"Chole Bhature\"]\n",
        "        },\n",
        "        \"Dinner\": {\n",
        "            \"South Indian\": [\"Biryani\", \"Uttapam\"],\n",
        "            \"North Indian\": [\"Paneer Butter Masala\", \"Roti Sabzi\"]\n",
        "        }\n",
        "    }\n",
        "\n",
        "    print(\"What would you like to have?\")\n",
        "    meal = get_choice(list(meal_options.keys()))\n",
        "\n",
        "    print(\"Select cuisine:\")\n",
        "    cuisine = get_choice(list(meal_options[meal].keys()))\n",
        "\n",
        "    print(\"Select your dish:\")\n",
        "    dish = get_choice(meal_options[meal][cuisine])\n",
        "\n",
        "    print_bill(meal, cuisine, dish)\n",
        "\n",
        "if __name__ == \"__main__\":\n",
        "    main()"
      ],
      "metadata": {
        "colab": {
          "base_uri": "https://localhost:8080/"
        },
        "id": "0t5mlKMmuR32",
        "outputId": "08714b23-a228-4951-94fc-e4049c24fc3c"
      },
      "execution_count": null,
      "outputs": [
        {
          "metadata": {
            "tags": null
          },
          "name": "stdout",
          "output_type": "stream",
          "text": [
            "What would you like to have?\n",
            "1. Breakfast\n",
            "2. Lunch\n",
            "3. Dinner\n"
          ]
        },
        {
          "output_type": "error",
          "ename": "KeyboardInterrupt",
          "evalue": "Interrupted by user",
          "traceback": [
            "\u001b[0;31m---------------------------------------------------------------------------\u001b[0m",
            "\u001b[0;31mKeyboardInterrupt\u001b[0m                         Traceback (most recent call last)",
            "\u001b[0;32m<ipython-input-1-489a41ca1388>\u001b[0m in \u001b[0;36m<cell line: 43>\u001b[0;34m()\u001b[0m\n\u001b[1;32m     42\u001b[0m \u001b[0;34m\u001b[0m\u001b[0m\n\u001b[1;32m     43\u001b[0m \u001b[0;32mif\u001b[0m \u001b[0m__name__\u001b[0m \u001b[0;34m==\u001b[0m \u001b[0;34m\"__main__\"\u001b[0m\u001b[0;34m:\u001b[0m\u001b[0;34m\u001b[0m\u001b[0;34m\u001b[0m\u001b[0m\n\u001b[0;32m---> 44\u001b[0;31m     \u001b[0mmain\u001b[0m\u001b[0;34m(\u001b[0m\u001b[0;34m)\u001b[0m\u001b[0;34m\u001b[0m\u001b[0;34m\u001b[0m\u001b[0m\n\u001b[0m",
            "\u001b[0;32m<ipython-input-1-489a41ca1388>\u001b[0m in \u001b[0;36mmain\u001b[0;34m()\u001b[0m\n\u001b[1;32m     31\u001b[0m \u001b[0;34m\u001b[0m\u001b[0m\n\u001b[1;32m     32\u001b[0m     \u001b[0mprint\u001b[0m\u001b[0;34m(\u001b[0m\u001b[0;34m\"What would you like to have?\"\u001b[0m\u001b[0;34m)\u001b[0m\u001b[0;34m\u001b[0m\u001b[0;34m\u001b[0m\u001b[0m\n\u001b[0;32m---> 33\u001b[0;31m     \u001b[0mmeal\u001b[0m \u001b[0;34m=\u001b[0m \u001b[0mget_choice\u001b[0m\u001b[0;34m(\u001b[0m\u001b[0mlist\u001b[0m\u001b[0;34m(\u001b[0m\u001b[0mmeal_options\u001b[0m\u001b[0;34m.\u001b[0m\u001b[0mkeys\u001b[0m\u001b[0;34m(\u001b[0m\u001b[0;34m)\u001b[0m\u001b[0;34m)\u001b[0m\u001b[0;34m)\u001b[0m\u001b[0;34m\u001b[0m\u001b[0;34m\u001b[0m\u001b[0m\n\u001b[0m\u001b[1;32m     34\u001b[0m \u001b[0;34m\u001b[0m\u001b[0m\n\u001b[1;32m     35\u001b[0m     \u001b[0mprint\u001b[0m\u001b[0;34m(\u001b[0m\u001b[0;34m\"Select cuisine:\"\u001b[0m\u001b[0;34m)\u001b[0m\u001b[0;34m\u001b[0m\u001b[0;34m\u001b[0m\u001b[0m\n",
            "\u001b[0;32m<ipython-input-1-489a41ca1388>\u001b[0m in \u001b[0;36mget_choice\u001b[0;34m(options)\u001b[0m\n\u001b[1;32m      9\u001b[0m     \u001b[0;32mfor\u001b[0m \u001b[0mi\u001b[0m\u001b[0;34m,\u001b[0m \u001b[0moption\u001b[0m \u001b[0;32min\u001b[0m \u001b[0menumerate\u001b[0m\u001b[0;34m(\u001b[0m\u001b[0moptions\u001b[0m\u001b[0;34m,\u001b[0m \u001b[0;36m1\u001b[0m\u001b[0;34m)\u001b[0m\u001b[0;34m:\u001b[0m\u001b[0;34m\u001b[0m\u001b[0;34m\u001b[0m\u001b[0m\n\u001b[1;32m     10\u001b[0m         \u001b[0mprint\u001b[0m\u001b[0;34m(\u001b[0m\u001b[0;34mf\"{i}. {option}\"\u001b[0m\u001b[0;34m)\u001b[0m\u001b[0;34m\u001b[0m\u001b[0;34m\u001b[0m\u001b[0m\n\u001b[0;32m---> 11\u001b[0;31m     \u001b[0mchoice\u001b[0m \u001b[0;34m=\u001b[0m \u001b[0mint\u001b[0m\u001b[0;34m(\u001b[0m\u001b[0minput\u001b[0m\u001b[0;34m(\u001b[0m\u001b[0;34m\"Please choose an option: \"\u001b[0m\u001b[0;34m)\u001b[0m\u001b[0;34m)\u001b[0m\u001b[0;34m\u001b[0m\u001b[0;34m\u001b[0m\u001b[0m\n\u001b[0m\u001b[1;32m     12\u001b[0m     \u001b[0;32mwhile\u001b[0m \u001b[0mchoice\u001b[0m \u001b[0;34m<\u001b[0m \u001b[0;36m1\u001b[0m \u001b[0;32mor\u001b[0m \u001b[0mchoice\u001b[0m \u001b[0;34m>\u001b[0m \u001b[0mlen\u001b[0m\u001b[0;34m(\u001b[0m\u001b[0moptions\u001b[0m\u001b[0;34m)\u001b[0m\u001b[0;34m:\u001b[0m\u001b[0;34m\u001b[0m\u001b[0;34m\u001b[0m\u001b[0m\n\u001b[1;32m     13\u001b[0m         \u001b[0mchoice\u001b[0m \u001b[0;34m=\u001b[0m \u001b[0mint\u001b[0m\u001b[0;34m(\u001b[0m\u001b[0minput\u001b[0m\u001b[0;34m(\u001b[0m\u001b[0;34m\"Invalid choice. Please choose again: \"\u001b[0m\u001b[0;34m)\u001b[0m\u001b[0;34m)\u001b[0m\u001b[0;34m\u001b[0m\u001b[0;34m\u001b[0m\u001b[0m\n",
            "\u001b[0;32m/usr/local/lib/python3.10/dist-packages/ipykernel/kernelbase.py\u001b[0m in \u001b[0;36mraw_input\u001b[0;34m(self, prompt)\u001b[0m\n\u001b[1;32m    849\u001b[0m                 \u001b[0;34m\"raw_input was called, but this frontend does not support input requests.\"\u001b[0m\u001b[0;34m\u001b[0m\u001b[0;34m\u001b[0m\u001b[0m\n\u001b[1;32m    850\u001b[0m             )\n\u001b[0;32m--> 851\u001b[0;31m         return self._input_request(str(prompt),\n\u001b[0m\u001b[1;32m    852\u001b[0m             \u001b[0mself\u001b[0m\u001b[0;34m.\u001b[0m\u001b[0m_parent_ident\u001b[0m\u001b[0;34m,\u001b[0m\u001b[0;34m\u001b[0m\u001b[0;34m\u001b[0m\u001b[0m\n\u001b[1;32m    853\u001b[0m             \u001b[0mself\u001b[0m\u001b[0;34m.\u001b[0m\u001b[0m_parent_header\u001b[0m\u001b[0;34m,\u001b[0m\u001b[0;34m\u001b[0m\u001b[0;34m\u001b[0m\u001b[0m\n",
            "\u001b[0;32m/usr/local/lib/python3.10/dist-packages/ipykernel/kernelbase.py\u001b[0m in \u001b[0;36m_input_request\u001b[0;34m(self, prompt, ident, parent, password)\u001b[0m\n\u001b[1;32m    893\u001b[0m             \u001b[0;32mexcept\u001b[0m \u001b[0mKeyboardInterrupt\u001b[0m\u001b[0;34m:\u001b[0m\u001b[0;34m\u001b[0m\u001b[0;34m\u001b[0m\u001b[0m\n\u001b[1;32m    894\u001b[0m                 \u001b[0;31m# re-raise KeyboardInterrupt, to truncate traceback\u001b[0m\u001b[0;34m\u001b[0m\u001b[0;34m\u001b[0m\u001b[0m\n\u001b[0;32m--> 895\u001b[0;31m                 \u001b[0;32mraise\u001b[0m \u001b[0mKeyboardInterrupt\u001b[0m\u001b[0;34m(\u001b[0m\u001b[0;34m\"Interrupted by user\"\u001b[0m\u001b[0;34m)\u001b[0m \u001b[0;32mfrom\u001b[0m \u001b[0;32mNone\u001b[0m\u001b[0;34m\u001b[0m\u001b[0;34m\u001b[0m\u001b[0m\n\u001b[0m\u001b[1;32m    896\u001b[0m             \u001b[0;32mexcept\u001b[0m \u001b[0mException\u001b[0m \u001b[0;32mas\u001b[0m \u001b[0me\u001b[0m\u001b[0;34m:\u001b[0m\u001b[0;34m\u001b[0m\u001b[0;34m\u001b[0m\u001b[0m\n\u001b[1;32m    897\u001b[0m                 \u001b[0mself\u001b[0m\u001b[0;34m.\u001b[0m\u001b[0mlog\u001b[0m\u001b[0;34m.\u001b[0m\u001b[0mwarning\u001b[0m\u001b[0;34m(\u001b[0m\u001b[0;34m\"Invalid Message:\"\u001b[0m\u001b[0;34m,\u001b[0m \u001b[0mexc_info\u001b[0m\u001b[0;34m=\u001b[0m\u001b[0;32mTrue\u001b[0m\u001b[0;34m)\u001b[0m\u001b[0;34m\u001b[0m\u001b[0;34m\u001b[0m\u001b[0m\n",
            "\u001b[0;31mKeyboardInterrupt\u001b[0m: Interrupted by user"
          ]
        }
      ]
    },
    {
      "cell_type": "markdown",
      "source": [
        "**Write a program to print all numbers betweeen range 0-100 which are divisible by 5 **"
      ],
      "metadata": {
        "id": "wDY-v38C4B4Q"
      }
    },
    {
      "cell_type": "code",
      "source": [
        "for i in range (0,101,5):\n",
        "  print(i);"
      ],
      "metadata": {
        "colab": {
          "base_uri": "https://localhost:8080/"
        },
        "id": "N4ANsOTU2_hN",
        "outputId": "1e1f1306-c7cf-4505-8cb6-1bd707d0c0c2"
      },
      "execution_count": null,
      "outputs": [
        {
          "output_type": "stream",
          "name": "stdout",
          "text": [
            "0\n",
            "5\n",
            "10\n",
            "15\n",
            "20\n",
            "25\n",
            "30\n",
            "35\n",
            "40\n",
            "45\n",
            "50\n",
            "55\n",
            "60\n",
            "65\n",
            "70\n",
            "75\n",
            "80\n",
            "85\n",
            "90\n",
            "95\n",
            "100\n"
          ]
        }
      ]
    },
    {
      "cell_type": "code",
      "source": [
        "print(list(range(0,101,5)));"
      ],
      "metadata": {
        "colab": {
          "base_uri": "https://localhost:8080/"
        },
        "id": "mdcCBpok4u4t",
        "outputId": "18b2de09-5841-4065-eb94-d91ad2930b9f"
      },
      "execution_count": null,
      "outputs": [
        {
          "output_type": "stream",
          "name": "stdout",
          "text": [
            "[0, 5, 10, 15, 20, 25, 30, 35, 40, 45, 50, 55, 60, 65, 70, 75, 80, 85, 90, 95, 100]\n"
          ]
        }
      ]
    },
    {
      "cell_type": "code",
      "source": [
        "\n",
        "def Test():\n",
        "  course=input(\"Enter Course\")\n",
        "  if course==\"BSCIT\":\n",
        "        per=int(input(\" %\"))\n",
        "        sub=input(\"Enter subjects\")\n",
        "        if sub==\"Maths\" and per>=45:\n",
        "                print(\"Admission successful\")\n",
        "        else:\n",
        "                print(\"Admission not successful\")\n",
        "  else:\n",
        "    print(\"skip\")\n",
        "\n",
        "Test()"
      ],
      "metadata": {
        "id": "rOomKtOi6adS"
      },
      "execution_count": null,
      "outputs": []
    }
  ]
}