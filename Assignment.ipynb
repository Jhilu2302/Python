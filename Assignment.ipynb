{
  "nbformat": 4,
  "nbformat_minor": 0,
  "metadata": {
    "colab": {
      "provenance": [],
      "authorship_tag": "ABX9TyMg2FuwQQS/8+Q8zICs8uHc",
      "include_colab_link": true
    },
    "kernelspec": {
      "name": "python3",
      "display_name": "Python 3"
    },
    "language_info": {
      "name": "python"
    }
  },
  "cells": [
    {
      "cell_type": "markdown",
      "metadata": {
        "id": "view-in-github",
        "colab_type": "text"
      },
      "source": [
        "<a href=\"https://colab.research.google.com/github/Jhilu2302/Python/blob/main/Assignment.ipynb\" target=\"_parent\"><img src=\"https://colab.research.google.com/assets/colab-badge.svg\" alt=\"Open In Colab\"/></a>"
      ]
    },
    {
      "cell_type": "markdown",
      "source": [
        "\n",
        "* *pip install faker*"
      ],
      "metadata": {
        "id": "SWQUVgKlSbkJ"
      }
    },
    {
      "cell_type": "code",
      "execution_count": 13,
      "metadata": {
        "colab": {
          "base_uri": "https://localhost:8080/"
        },
        "id": "2wg_tVEMRS17",
        "outputId": "17be4524-a0d0-4017-df0e-7de92a00664c"
      },
      "outputs": [
        {
          "output_type": "stream",
          "name": "stdout",
          "text": [
            "Collecting faker\n",
            "  Downloading Faker-26.1.0-py3-none-any.whl.metadata (15 kB)\n",
            "Requirement already satisfied: python-dateutil>=2.4 in /usr/local/lib/python3.10/dist-packages (from faker) (2.8.2)\n",
            "Requirement already satisfied: six>=1.5 in /usr/local/lib/python3.10/dist-packages (from python-dateutil>=2.4->faker) (1.16.0)\n",
            "Downloading Faker-26.1.0-py3-none-any.whl (1.8 MB)\n",
            "\u001b[?25l   \u001b[90m━━━━━━━━━━━━━━━━━━━━━━━━━━━━━━━━━━━━━━━━\u001b[0m \u001b[32m0.0/1.8 MB\u001b[0m \u001b[31m?\u001b[0m eta \u001b[36m-:--:--\u001b[0m\r\u001b[2K   \u001b[91m━━━━━\u001b[0m\u001b[90m╺\u001b[0m\u001b[90m━━━━━━━━━━━━━━━━━━━━━━━━━━━━━━━━━━\u001b[0m \u001b[32m0.2/1.8 MB\u001b[0m \u001b[31m6.9 MB/s\u001b[0m eta \u001b[36m0:00:01\u001b[0m\r\u001b[2K   \u001b[91m━━━━━━━━━━━━━━━━━━━━━━━━━━━━━━━━━━━━━━━\u001b[0m\u001b[91m╸\u001b[0m \u001b[32m1.8/1.8 MB\u001b[0m \u001b[31m25.7 MB/s\u001b[0m eta \u001b[36m0:00:01\u001b[0m\r\u001b[2K   \u001b[90m━━━━━━━━━━━━━━━━━━━━━━━━━━━━━━━━━━━━━━━━\u001b[0m \u001b[32m1.8/1.8 MB\u001b[0m \u001b[31m19.1 MB/s\u001b[0m eta \u001b[36m0:00:00\u001b[0m\n",
            "\u001b[?25hInstalling collected packages: faker\n",
            "Successfully installed faker-26.1.0\n"
          ]
        }
      ],
      "source": [
        "pip install faker\n"
      ]
    },
    {
      "cell_type": "code",
      "source": [
        "from faker import Faker\n",
        "fake=Faker()\n",
        "print(fake.name())\n",
        "print(fake.address())\n",
        "print(fake.text())\n",
        "print(fake.email())\n",
        "print(fake.country())\n",
        "print(fake.latitude(),fake.longitude())\n",
        "print(fake.url())"
      ],
      "metadata": {
        "colab": {
          "base_uri": "https://localhost:8080/"
        },
        "id": "t_PEdJ-NV1AB",
        "outputId": "4db58251-ba4d-496e-f161-cdf32adc37ad"
      },
      "execution_count": 14,
      "outputs": [
        {
          "output_type": "stream",
          "name": "stdout",
          "text": [
            "James Parker\n",
            "00398 Jonathan Corner\n",
            "New Amber, PA 10439\n",
            "Be suggest political walk short west. Around alone item go.\n",
            "Collection thing former campaign. Number admit opportunity particularly again.\n",
            "jasmine58@example.net\n",
            "United States Minor Outlying Islands\n",
            "-2.521277 -64.261088\n",
            "http://pierce-turner.biz/\n"
          ]
        }
      ]
    },
    {
      "cell_type": "markdown",
      "source": [
        "* *pip install textblob*"
      ],
      "metadata": {
        "id": "pzQLAViCS7u1"
      }
    },
    {
      "cell_type": "code",
      "source": [
        "from textblob import TextBlob\n",
        "def Convert(string):\n",
        "    li = list(string.split())\n",
        "    return li\n",
        "str1=input(\"Enter your word:\")\n",
        "words=Convert(str1)\n",
        "corrected_words=[]\n",
        "for i in words:\n",
        "    corrected_words.append(TextBlob(i))\n",
        "print(\"Wrong words :\",words)\n",
        "print(\"Corrected Words are :\")\n",
        "for i in corrected_words:\n",
        "    print(i.correct(),end=\" \")"
      ],
      "metadata": {
        "colab": {
          "base_uri": "https://localhost:8080/"
        },
        "id": "Jl79ar0dSrkN",
        "outputId": "8f76a26a-946a-46d9-c970-f4005a13c723"
      },
      "execution_count": 2,
      "outputs": [
        {
          "output_type": "stream",
          "name": "stdout",
          "text": [
            "Enter your word:jhil\n",
            "Wrong words : ['jhil']\n",
            "Corrected Words are :\n",
            "jail "
          ]
        }
      ]
    },
    {
      "cell_type": "code",
      "source": [
        "#Using the reverse method\n",
        "my_list=[1,2,3,4,5]\n",
        "my_list.reverse()\n",
        "print(my_list)"
      ],
      "metadata": {
        "colab": {
          "base_uri": "https://localhost:8080/"
        },
        "id": "Sup4y4gGTI0a",
        "outputId": "03b28aca-9208-41d4-b957-1c90f58ef19a"
      },
      "execution_count": 3,
      "outputs": [
        {
          "output_type": "stream",
          "name": "stdout",
          "text": [
            "[5, 4, 3, 2, 1]\n"
          ]
        }
      ]
    },
    {
      "cell_type": "code",
      "source": [
        "#Using the slicing\n",
        "my_list=[1,2,3,4,5]\n",
        "reversed_list=my_list[::-1]\n",
        "print(reversed_list)"
      ],
      "metadata": {
        "colab": {
          "base_uri": "https://localhost:8080/"
        },
        "id": "3EUrFUYJTRf4",
        "outputId": "4008a93b-391d-49f8-de34-d5cb3fcb3c8e"
      },
      "execution_count": 4,
      "outputs": [
        {
          "output_type": "stream",
          "name": "stdout",
          "text": [
            "[5, 4, 3, 2, 1]\n"
          ]
        }
      ]
    },
    {
      "cell_type": "code",
      "source": [
        "#Using the reversed function\n",
        "my_list=[1,2,3,4,5]\n",
        "reversed_list=list(reversed(my_list))\n",
        "print(reversed_list)"
      ],
      "metadata": {
        "colab": {
          "base_uri": "https://localhost:8080/"
        },
        "id": "a-PB7tI2Tasw",
        "outputId": "5b7d238a-a27e-4290-beec-d0646eb8679d"
      },
      "execution_count": 5,
      "outputs": [
        {
          "output_type": "stream",
          "name": "stdout",
          "text": [
            "[5, 4, 3, 2, 1]\n"
          ]
        }
      ]
    },
    {
      "cell_type": "code",
      "source": [
        "#Using a loop\n",
        "my_l=[1,2,3,4,5]\n",
        "r_list=[]\n",
        "for i in my_l:\n",
        "  r_list.insert(0,i)\n",
        "print(r_list)"
      ],
      "metadata": {
        "colab": {
          "base_uri": "https://localhost:8080/"
        },
        "id": "bEsl6b5BTfLk",
        "outputId": "407579ad-a582-4519-f520-f2962fb46494"
      },
      "execution_count": 6,
      "outputs": [
        {
          "output_type": "stream",
          "name": "stdout",
          "text": [
            "[5, 4, 3, 2, 1]\n"
          ]
        }
      ]
    },
    {
      "cell_type": "code",
      "source": [
        "#Using append method\n",
        "for i in range(len(my_list)-1,-1,-1):\n",
        "  reversed_list.append(my_list[i]);"
      ],
      "metadata": {
        "id": "LsHCluBXTkft"
      },
      "execution_count": 15,
      "outputs": []
    }
  ]
}