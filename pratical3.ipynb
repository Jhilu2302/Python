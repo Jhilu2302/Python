{
  "nbformat": 4,
  "nbformat_minor": 0,
  "metadata": {
    "colab": {
      "provenance": [],
      "authorship_tag": "ABX9TyPzA+IOlYIo1qgU6l4uvs3I",
      "include_colab_link": true
    },
    "kernelspec": {
      "name": "python3",
      "display_name": "Python 3"
    },
    "language_info": {
      "name": "python"
    }
  },
  "cells": [
    {
      "cell_type": "markdown",
      "metadata": {
        "id": "view-in-github",
        "colab_type": "text"
      },
      "source": [
        "<a href=\"https://colab.research.google.com/github/Jhilu2302/Python/blob/main/pratical3.ipynb\" target=\"_parent\"><img src=\"https://colab.research.google.com/assets/colab-badge.svg\" alt=\"Open In Colab\"/></a>"
      ]
    },
    {
      "cell_type": "code",
      "execution_count": null,
      "metadata": {
        "colab": {
          "base_uri": "https://localhost:8080/"
        },
        "id": "s2vGs01i3pM6",
        "outputId": "2e2dd9b0-ba09-4b96-9678-4f799af8681c"
      },
      "outputs": [
        {
          "output_type": "stream",
          "name": "stdout",
          "text": [
            "HELLO\n",
            "HELLO\n",
            "HELLO\n",
            "HELLO\n",
            "HELLO\n",
            "HELLO\n",
            "HELLO\n",
            "HELLO\n",
            "HELLO\n",
            "HELLO\n",
            "HELLO\n",
            "HELLO\n"
          ]
        }
      ],
      "source": [
        "\n",
        "s = \"python rocks\"\n",
        "for ch in s:\n",
        " print(\"HELLO\")"
      ]
    },
    {
      "cell_type": "code",
      "source": [],
      "metadata": {
        "id": "LVDeYwoAQBzi"
      },
      "execution_count": null,
      "outputs": []
    },
    {
      "cell_type": "code",
      "source": [
        "\n",
        "s = \"python rocks\"\n",
        "for ch in s:\n",
        " print(s[::-1])"
      ],
      "metadata": {
        "colab": {
          "base_uri": "https://localhost:8080/"
        },
        "id": "4mhQz4HP31Kw",
        "outputId": "9182a695-7eeb-458b-8657-2c2450975b8c"
      },
      "execution_count": null,
      "outputs": [
        {
          "output_type": "stream",
          "name": "stdout",
          "text": [
            "skcor nohtyp\n",
            "skcor nohtyp\n",
            "skcor nohtyp\n",
            "skcor nohtyp\n",
            "skcor nohtyp\n",
            "skcor nohtyp\n",
            "skcor nohtyp\n",
            "skcor nohtyp\n",
            "skcor nohtyp\n",
            "skcor nohtyp\n",
            "skcor nohtyp\n",
            "skcor nohtyp\n"
          ]
        }
      ]
    },
    {
      "cell_type": "code",
      "source": [
        "S=\"Hello World\"\n",
        "print(\"J\"+S[1:6]+\"M\"+S[7:])\n",
        "print(S[1::2])\n",
        "print(S[:-1])\n",
        "print(S[-1:])\n",
        "print(S[:1:-1])"
      ],
      "metadata": {
        "colab": {
          "base_uri": "https://localhost:8080/"
        },
        "id": "X4-rd9d243C7",
        "outputId": "8e56c424-73b5-450f-a5fb-5217e4b8bcdb"
      },
      "execution_count": null,
      "outputs": [
        {
          "output_type": "stream",
          "name": "stdout",
          "text": [
            "Jello Morld\n",
            "el ol\n",
            "Hello Worl\n",
            "d\n",
            "dlroW oll\n"
          ]
        }
      ]
    },
    {
      "cell_type": "code",
      "source": [
        "\n",
        "L1=[10,20,30,40]\n",
        "print(L1[0])\n",
        "L1[0]=100\n",
        "print(L1[0])"
      ],
      "metadata": {
        "colab": {
          "base_uri": "https://localhost:8080/"
        },
        "id": "FQ8R3N_97CGy",
        "outputId": "f01fe8db-227a-4cb8-994a-480a9fc7fab5"
      },
      "execution_count": null,
      "outputs": [
        {
          "output_type": "stream",
          "name": "stdout",
          "text": [
            "10\n",
            "100\n"
          ]
        }
      ]
    },
    {
      "cell_type": "code",
      "source": [
        "S=\"Hello\"\n",
        "print(s[0])\n",
        "S1=\"T\"+S[1:]\n",
        "print(S1)"
      ],
      "metadata": {
        "colab": {
          "base_uri": "https://localhost:8080/"
        },
        "id": "wLTGPlNY85qL",
        "outputId": "041f8cba-81ee-4dd2-c260-d379896e2c04"
      },
      "execution_count": null,
      "outputs": [
        {
          "output_type": "stream",
          "name": "stdout",
          "text": [
            "p\n",
            "Tello\n"
          ]
        }
      ]
    },
    {
      "cell_type": "code",
      "source": [
        "s=\"Raheja Collage"
      ],
      "metadata": {
        "colab": {
          "base_uri": "https://localhost:8080/",
          "height": 146
        },
        "id": "VYjZmt-J-aII",
        "outputId": "62888d12-ff1b-4a25-fcd2-4a32023c5ab8"
      },
      "execution_count": null,
      "outputs": [
        {
          "output_type": "error",
          "ename": "SyntaxError",
          "evalue": "unterminated string literal (detected at line 1) (<ipython-input-28-2f49e1ce79e6>, line 1)",
          "traceback": [
            "\u001b[0;36m  File \u001b[0;32m\"<ipython-input-28-2f49e1ce79e6>\"\u001b[0;36m, line \u001b[0;32m1\u001b[0m\n\u001b[0;31m    s=\"Raheja Collage\u001b[0m\n\u001b[0m      ^\u001b[0m\n\u001b[0;31mSyntaxError\u001b[0m\u001b[0;31m:\u001b[0m unterminated string literal (detected at line 1)\n"
          ]
        }
      ]
    }
  ]
}